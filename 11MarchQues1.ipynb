{
 "cells": [
  {
   "cell_type": "markdown",
   "metadata": {},
   "source": [
    "Write a python function to implement the Gaussian (RBF) kernel for two given vectors."
   ]
  },
  {
   "cell_type": "code",
   "execution_count": 5,
   "metadata": {},
   "outputs": [
    {
     "name": "stdout",
     "output_type": "stream",
     "text": [
      "1.0\n"
     ]
    }
   ],
   "source": [
    "import numpy as np\n",
    "\n",
    "def rbf_kernel(x, y, gamma):\n",
    "    \"\"\"\n",
    "    Compute the Gaussian (RBF) kernel between two vectors.\n",
    "\n",
    "    Parameters:\n",
    "    x (array-like): First input vector.\n",
    "    y (array-like): Second input vector.\n",
    "    gamma (float): Kernel coefficient (inverse of 2 * sigma^2).\n",
    "\n",
    "    Returns:\n",
    "    float: The computed RBF kernel value.\n",
    "    \"\"\"\n",
    "    x, y = np.array(x), np.array(y)\n",
    "    squared_distance = np.linalg.norm(x - y) ** 2\n",
    "    return np.exp(-gamma * squared_distance)\n",
    "\n",
    "# Example usage:\n",
    "x = [9, 4, 7]\n",
    "y = [9, 4, 7]\n",
    "gamma = 0.5\n",
    "print(rbf_kernel(x, y, gamma))  # Output: The RBF kernel value\n"
   ]
  },
  {
   "cell_type": "markdown",
   "metadata": {},
   "source": [
    "Explanation:\n",
    "\n",
    "1. The function computes the squared Euclidean distance between vectors x and y.\n",
    "   \n",
    "2. The RBF kernel formula: K(x,y) = exp( −γ ||x−y||^2)\n",
    "   \n",
    "    where gamma is a hyperparameter that controls the influence of data points.\n",
    "    \n",
    "3. np.exp(-gamma * squared_distance) applies the kernel transformation."
   ]
  },
  {
   "cell_type": "code",
   "execution_count": null,
   "metadata": {},
   "outputs": [],
   "source": []
  }
 ],
 "metadata": {
  "kernelspec": {
   "display_name": "Python 3",
   "language": "python",
   "name": "python3"
  },
  "language_info": {
   "codemirror_mode": {
    "name": "ipython",
    "version": 3
   },
   "file_extension": ".py",
   "mimetype": "text/x-python",
   "name": "python",
   "nbconvert_exporter": "python",
   "pygments_lexer": "ipython3",
   "version": "3.13.2"
  }
 },
 "nbformat": 4,
 "nbformat_minor": 2
}
