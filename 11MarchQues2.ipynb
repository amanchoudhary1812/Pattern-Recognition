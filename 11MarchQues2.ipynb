{
 "cells": [
  {
   "cell_type": "markdown",
   "metadata": {},
   "source": [
    "Given a dataset X (shape:m*n), compute the RBF kernel matrix for all pairs of samples."
   ]
  },
  {
   "cell_type": "code",
   "execution_count": 1,
   "metadata": {},
   "outputs": [
    {
     "name": "stdout",
     "output_type": "stream",
     "text": [
      "[[1.00000000e+00 1.83156389e-02 1.12535175e-07]\n",
      " [1.83156389e-02 1.00000000e+00 1.83156389e-02]\n",
      " [1.12535175e-07 1.83156389e-02 1.00000000e+00]]\n"
     ]
    }
   ],
   "source": [
    "import numpy as np\n",
    "from scipy.spatial.distance import cdist\n",
    "\n",
    "def rbf_kernel_matrix(X, gamma):\n",
    "    \"\"\"\n",
    "    Compute the RBF kernel matrix for a given dataset.\n",
    "\n",
    "    Parameters:\n",
    "    X (ndarray): Input data matrix of shape (m, n), where m is the number of samples.\n",
    "    gamma (float): Kernel coefficient (inverse of 2 * sigma^2).\n",
    "\n",
    "    Returns:\n",
    "    ndarray: RBF kernel matrix of shape (m, m).\n",
    "    \"\"\"\n",
    "    # Compute squared Euclidean distances between all pairs of samples\n",
    "    sq_dists = cdist(X, X, metric='sqeuclidean')\n",
    "    \n",
    "    # Compute the RBF kernel matrix\n",
    "    return np.exp(-gamma * sq_dists)\n",
    "\n",
    "# Example usage:\n",
    "X = np.array([[1, 2], [3, 4], [5, 6]])  # Example dataset (3 samples, 2 features)\n",
    "gamma = 0.5  # Hyperparameter\n",
    "K = rbf_kernel_matrix(X, gamma)\n",
    "print(K)  # Output: RBF kernel matrix\n"
   ]
  },
  {
   "cell_type": "markdown",
   "metadata": {},
   "source": [
    "Explanation:\n",
    "\n",
    "1. Pairwise Squared Euclidean Distance:\n",
    "\n",
    "   - We use scipy.spatial.distance.cdist(X, X, metric='sqeuclidean') to compute the squared Euclidean distance efficiently.\n",
    "\n",
    "   - This creates an (m,n)(m,m) matrix, where each entry represents the squared distance between two samples.\n",
    "     \n",
    "2. Compute the RBF Kernel:\n",
    "\n",
    "    - Apply the RBF formula to each pair:\n",
    "  \n",
    "      K(i,j) = exp ( −γ || Xi-Xj ||^2)\n",
    "\n",
    "    - The resulting matrix is symmetric and positive semi-definite.\n",
    "  \n",
    "3. Time Complexity:\n",
    "\n",
    "     - O(m^2n) due to pairwise distance computation, making it efficient for moderate datasets."
   ]
  },
  {
   "cell_type": "markdown",
   "metadata": {},
   "source": []
  }
 ],
 "metadata": {
  "kernelspec": {
   "display_name": "Python 3",
   "language": "python",
   "name": "python3"
  },
  "language_info": {
   "codemirror_mode": {
    "name": "ipython",
    "version": 3
   },
   "file_extension": ".py",
   "mimetype": "text/x-python",
   "name": "python",
   "nbconvert_exporter": "python",
   "pygments_lexer": "ipython3",
   "version": "3.13.2"
  }
 },
 "nbformat": 4,
 "nbformat_minor": 2
}
