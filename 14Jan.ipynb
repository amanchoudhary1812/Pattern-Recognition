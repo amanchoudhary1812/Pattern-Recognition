{
 "cells": [
  {
   "cell_type": "markdown",
   "metadata": {},
   "source": [
    "Point Processing Techniques"
   ]
  },
  {
   "cell_type": "code",
   "execution_count": 1,
   "metadata": {},
   "outputs": [
    {
     "ename": "ModuleNotFoundError",
     "evalue": "No module named 'cv2'",
     "output_type": "error",
     "traceback": [
      "\u001b[0;31m---------------------------------------------------------------------------\u001b[0m",
      "\u001b[0;31mModuleNotFoundError\u001b[0m                       Traceback (most recent call last)",
      "Cell \u001b[0;32mIn[1], line 1\u001b[0m\n\u001b[0;32m----> 1\u001b[0m \u001b[38;5;28;01mimport\u001b[39;00m\u001b[38;5;250m \u001b[39m\u001b[38;5;21;01mcv2\u001b[39;00m\n\u001b[1;32m      2\u001b[0m \u001b[38;5;28;01mimport\u001b[39;00m\u001b[38;5;250m \u001b[39m\u001b[38;5;21;01mnumpy\u001b[39;00m\u001b[38;5;250m \u001b[39m\u001b[38;5;28;01mas\u001b[39;00m\u001b[38;5;250m \u001b[39m\u001b[38;5;21;01mnp\u001b[39;00m\n",
      "\u001b[0;31mModuleNotFoundError\u001b[0m: No module named 'cv2'"
     ]
    }
   ],
   "source": [
    "import cv2\n",
    "import numpy as np"
   ]
  },
  {
   "cell_type": "markdown",
   "metadata": {},
   "source": [
    "Image Negative"
   ]
  },
  {
   "cell_type": "code",
   "execution_count": 6,
   "metadata": {},
   "outputs": [],
   "source": [
    "img = cv2.imread('Pattern-Recognition/Muki.jpeg',0)"
   ]
  },
  {
   "cell_type": "markdown",
   "metadata": {},
   "source": [
    "To ascertain total numbers of rows and columns of the image, size of the image"
   ]
  },
  {
   "cell_type": "code",
   "execution_count": 7,
   "metadata": {},
   "outputs": [],
   "source": [
    "m,n = img.shape"
   ]
  },
  {
   "cell_type": "markdown",
   "metadata": {},
   "source": [
    "To find the maximum grey level value in the image"
   ]
  },
  {
   "cell_type": "code",
   "execution_count": 8,
   "metadata": {},
   "outputs": [],
   "source": [
    "L = img.max()"
   ]
  },
  {
   "cell_type": "markdown",
   "metadata": {},
   "source": [
    "Maximum grey level value  minus the original image gives the negative image"
   ]
  },
  {
   "cell_type": "code",
   "execution_count": 9,
   "metadata": {},
   "outputs": [],
   "source": [
    "img_neg = L-img"
   ]
  },
  {
   "cell_type": "markdown",
   "metadata": {},
   "source": [
    "convert the np array img_neg to a png image"
   ]
  },
  {
   "cell_type": "code",
   "execution_count": 10,
   "metadata": {},
   "outputs": [
    {
     "data": {
      "text/plain": [
       "True"
      ]
     },
     "execution_count": 10,
     "metadata": {},
     "output_type": "execute_result"
    }
   ],
   "source": [
    "cv2.imwrite('Cameraman_Negative.png', img_neg)"
   ]
  },
  {
   "cell_type": "markdown",
   "metadata": {},
   "source": [
    "Thresholding without background. \n",
    "Let threshold =T.\n",
    "Let pixel value in the original be denoted by r.\n",
    "Let pixel value in the new image be denoted by s.\n",
    "If r<T, s= 0\n",
    "If r>T, s=255"
   ]
  },
  {
   "cell_type": "code",
   "execution_count": 2,
   "metadata": {},
   "outputs": [],
   "source": [
    "T = 150"
   ]
  },
  {
   "cell_type": "markdown",
   "metadata": {},
   "source": [
    "Create an array of zeros"
   ]
  },
  {
   "cell_type": "code",
   "execution_count": 1,
   "metadata": {},
   "outputs": [
    {
     "name": "stdout",
     "output_type": "stream",
     "text": [
      "Original Image:\n",
      "[[ 40 132   0 113 228]\n",
      " [102 227 128 171  30]\n",
      " [  3  69  38  78  50]\n",
      " [210  93 123  76  61]\n",
      " [250 252  19 180 235]]\n",
      "Thresholded Image:\n",
      "[[  0 255   0 255 255]\n",
      " [255 255 255 255   0]\n",
      " [  0   0   0   0   0]\n",
      " [255   0 255   0   0]\n",
      " [255 255   0 255 255]]\n"
     ]
    }
   ],
   "source": [
    "import numpy as np\n",
    "\n",
    "# Define variables\n",
    "m, n = 5, 5  # Dimensions of the image\n",
    "img = np.random.randint(0, 256, size=(m, n))  # Random grayscale image (values between 0 and 255)\n",
    "T = 100  # Threshold value\n",
    "\n",
    "# Initialize the output array\n",
    "img_thresh = np.zeros((m, n), dtype=int)\n",
    "\n",
    "# Apply thresholding\n",
    "for i in range(m):\n",
    "    for j in range(n):\n",
    "        if img[i, j] < T:\n",
    "            img_thresh[i, j] = 0\n",
    "        else:\n",
    "            img_thresh[i, j] = 255\n",
    "\n",
    "# Print results\n",
    "print(\"Original Image:\")\n",
    "print(img)\n",
    "print(\"Thresholded Image:\")\n",
    "print(img_thresh)\n"
   ]
  },
  {
   "cell_type": "code",
   "execution_count": 13,
   "metadata": {},
   "outputs": [
    {
     "name": "stderr",
     "output_type": "stream",
     "text": [
      "[ WARN:0@0.022] global loadsave.cpp:241 findDecoder imread_('food.jpeg'): can't open/read file: check file path/integrity\n"
     ]
    },
    {
     "ename": "AttributeError",
     "evalue": "'NoneType' object has no attribute 'shape'",
     "output_type": "error",
     "traceback": [
      "\u001b[0;31m---------------------------------------------------------------------------\u001b[0m",
      "\u001b[0;31mAttributeError\u001b[0m                            Traceback (most recent call last)",
      "Cell \u001b[0;32mIn[13], line 11\u001b[0m\n\u001b[1;32m      6\u001b[0m img \u001b[38;5;241m=\u001b[39m cv2\u001b[38;5;241m.\u001b[39mimread(\u001b[38;5;124m'\u001b[39m\u001b[38;5;124mfood.jpeg\u001b[39m\u001b[38;5;124m'\u001b[39m,\u001b[38;5;241m0\u001b[39m) \n\u001b[1;32m      8\u001b[0m \u001b[38;5;66;03m# To ascertain total numbers of \u001b[39;00m\n\u001b[1;32m      9\u001b[0m \u001b[38;5;66;03m# rows and columns of the image,\u001b[39;00m\n\u001b[1;32m     10\u001b[0m \u001b[38;5;66;03m# size of the image\u001b[39;00m\n\u001b[0;32m---> 11\u001b[0m m,n \u001b[38;5;241m=\u001b[39m \u001b[43mimg\u001b[49m\u001b[38;5;241;43m.\u001b[39;49m\u001b[43mshape\u001b[49m\n\u001b[1;32m     13\u001b[0m \u001b[38;5;66;03m# To find the maximum grey level\u001b[39;00m\n\u001b[1;32m     14\u001b[0m \u001b[38;5;66;03m# value in the image\u001b[39;00m\n\u001b[1;32m     15\u001b[0m L \u001b[38;5;241m=\u001b[39m img\u001b[38;5;241m.\u001b[39mmax()\n",
      "\u001b[0;31mAttributeError\u001b[0m: 'NoneType' object has no attribute 'shape'"
     ]
    }
   ],
   "source": [
    "import cv2\n",
    "import numpy as np\n",
    "\n",
    "\n",
    "# Image negative\n",
    "img = cv2.imread('food.jpeg',0) \n",
    "\n",
    "# To ascertain total numbers of \n",
    "# rows and columns of the image,\n",
    "# size of the image\n",
    "m,n = img.shape\n",
    "\n",
    "# To find the maximum grey level\n",
    "# value in the image\n",
    "L = img.max()\n",
    "\n",
    "# Maximum grey level value minus \n",
    "# the original image gives the\n",
    "# negative image\n",
    "img_neg = L-img\n",
    "\n",
    "# convert the np array img_neg to \n",
    "# a png image\n",
    "cv2.imwrite('Cameraman_Negative.png', img_neg)\n",
    "\n",
    "# Thresholding without background \n",
    "# Let threshold =T\n",
    "# Let pixel value in the original be denoted by r\n",
    "# Let pixel value in the new image be denoted by s\n",
    "# If r<T, s= 0\n",
    "# If r>T, s=255\n",
    "\n",
    "T = 150\n",
    "\n",
    "# create an array of zeros\n",
    "img_thresh = np.zeros((m,n), dtype = int) \n",
    "\n",
    "for i in range(m):\n",
    "\t\n",
    "\tfor j in range(n):\n",
    "\t\t\n",
    "\t\tif img[i,j] < T: \n",
    "\t\t\timg_thresh[i,j]= 0\n",
    "\t\telse:\n",
    "\t\t\timg_thresh[i,j] = 255\n",
    "\n",
    "\n",
    "# Convert array to png image\n",
    "cv2.imwrite('Cameraman_Thresh.png', img_thresh)\n",
    "\n",
    "# the lower threshold value\n",
    "T1 = 100\n",
    "\n",
    "# the upper threshold value\n",
    "T2 = 180\n",
    "\n",
    "# create an array of zeros\n",
    "img_thresh_back = np.zeros((m,n), dtype = int)\n",
    "\n",
    "for i in range(m):\n",
    "\t\n",
    "\tfor j in range(n):\n",
    "\t\t\n",
    "\t\tif T1 < img[i,j] < T2: \n",
    "\t\t\timg_thresh_back[i,j]= 255\n",
    "\t\telse:\n",
    "\t\t\timg_thresh_back[i,j] = img[i,j]\n",
    "\n",
    "# Convert array to png image\n",
    "cv2.imwrite('Cameraman_Thresh_Back.png', img_thresh_back)\n"
   ]
  },
  {
   "cell_type": "code",
   "execution_count": null,
   "metadata": {},
   "outputs": [],
   "source": []
  }
 ],
 "metadata": {
  "kernelspec": {
   "display_name": "Python 3",
   "language": "python",
   "name": "python3"
  },
  "language_info": {
   "codemirror_mode": {
    "name": "ipython",
    "version": 3
   },
   "file_extension": ".py",
   "mimetype": "text/x-python",
   "name": "python",
   "nbconvert_exporter": "python",
   "pygments_lexer": "ipython3",
   "version": "3.13.2"
  }
 },
 "nbformat": 4,
 "nbformat_minor": 2
}
